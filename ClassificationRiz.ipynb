{
  "nbformat": 4,
  "nbformat_minor": 0,
  "metadata": {
    "colab": {
      "provenance": [],
      "include_colab_link": true
    },
    "kernelspec": {
      "name": "python3",
      "display_name": "Python 3"
    },
    "language_info": {
      "name": "python"
    }
  },
  "cells": [
    {
      "cell_type": "markdown",
      "metadata": {
        "id": "view-in-github",
        "colab_type": "text"
      },
      "source": [
        "<a href=\"https://colab.research.google.com/github/MarwaRayen/Smart-Irrigation-System/blob/main/ClassificationRiz.ipynb\" target=\"_parent\"><img src=\"https://colab.research.google.com/assets/colab-badge.svg\" alt=\"Open In Colab\"/></a>"
      ]
    },
    {
      "cell_type": "markdown",
      "source": [
        "#Importation des librairies"
      ],
      "metadata": {
        "id": "B9EDtNVM2U_i"
      }
    },
    {
      "cell_type": "code",
      "execution_count": null,
      "metadata": {
        "id": "VCVUdpq5ZQTU"
      },
      "outputs": [],
      "source": [
        "import pandas as pd\n",
        "from sklearn.model_selection import train_test_split\n",
        "from sklearn.preprocessing import StandardScaler"
      ]
    },
    {
      "cell_type": "markdown",
      "source": [
        "#Chargement des données"
      ],
      "metadata": {
        "id": "Q1BuI3OC2c0N"
      }
    },
    {
      "cell_type": "code",
      "source": [
        "# Charger le jeu de données\n",
        "data = pd.read_excel(\"arachides+nouveau_riz.xlsx\")\n",
        "\n",
        "# Afficher les premières lignes du jeu de données pour comprendre sa structure\n",
        "print(data.head())\n",
        "\n",
        "# Afficher les colonnes pour vérifier leurs noms\n",
        "print(data.columns)\n"
      ],
      "metadata": {
        "colab": {
          "base_uri": "https://localhost:8080/"
        },
        "id": "8bqk2Kqmc25Z",
        "outputId": "0e77e209-e091-44b3-95ae-2c1e17d716e3"
      },
      "execution_count": null,
      "outputs": [
        {
          "output_type": "stream",
          "name": "stdout",
          "text": [
            "   CropType  CropDays  Soil Moisture  Soil Temperature  Temperature  Humidity  \\\n",
            "0         1         1            630                19           33        52   \n",
            "1         1         2            460                20           31        50   \n",
            "2         1         3            230                22           33        48   \n",
            "3         1         4            140                24           28        62   \n",
            "4         1         5            720                18           28        63   \n",
            "\n",
            "   Irrigation(Y/N)  Unnamed: 7  Unnamed: 8   Unnamed: 9 Unnamed: 10  \n",
            "0                1         NaN         NaN          NaN         NaN  \n",
            "1                0         NaN         NaN          NaN         NaN  \n",
            "2                0         NaN         NaN     CropType        Code  \n",
            "3                0         NaN         NaN        Paddy           1  \n",
            "4                1         NaN         NaN  Ground Nuts           2  \n",
            "Index(['CropType', 'CropDays', 'Soil Moisture', 'Soil Temperature',\n",
            "       'Temperature', 'Humidity', 'Irrigation(Y/N)', 'Unnamed: 7',\n",
            "       'Unnamed: 8', 'Unnamed: 9', 'Unnamed: 10'],\n",
            "      dtype='object')\n"
          ]
        }
      ]
    },
    {
      "cell_type": "markdown",
      "source": [
        "#Pré-traitement du dataset"
      ],
      "metadata": {
        "id": "gqrkvdhJ0ghK"
      }
    },
    {
      "cell_type": "markdown",
      "source": [],
      "metadata": {
        "id": "8tbHksPVaZT8"
      }
    },
    {
      "cell_type": "markdown",
      "source": [
        "**Nous supprimons ici les colonnes qui ne sont pas nécessaires pour notre analyse afin de simplifier le jeu de données**"
      ],
      "metadata": {
        "id": "vybI-8njzLHu"
      }
    },
    {
      "cell_type": "code",
      "source": [
        "# Supprimer les colonnes inutiles du DataFrame\n",
        "data = data.drop(columns=['Unnamed: 7', 'Unnamed: 8', 'Unnamed: 9', 'Unnamed: 10'])\n",
        "\n",
        "# Afficher le DataFrame après la suppression des colonnes pour s'assurer que c'est correct\n",
        "print(data.head())\n"
      ],
      "metadata": {
        "colab": {
          "base_uri": "https://localhost:8080/"
        },
        "id": "w7aHNgKuesRT",
        "outputId": "f6becc24-4bb3-4845-f394-c3f59401c057"
      },
      "execution_count": null,
      "outputs": [
        {
          "output_type": "stream",
          "name": "stdout",
          "text": [
            "   CropType  CropDays  Soil Moisture  Soil Temperature  Temperature  Humidity  \\\n",
            "0         1         1            630                19           33        52   \n",
            "1         1         2            460                20           31        50   \n",
            "2         1         3            230                22           33        48   \n",
            "3         1         4            140                24           28        62   \n",
            "4         1         5            720                18           28        63   \n",
            "\n",
            "   Irrigation(Y/N)  \n",
            "0                1  \n",
            "1                0  \n",
            "2                0  \n",
            "3                0  \n",
            "4                1  \n"
          ]
        }
      ]
    },
    {
      "cell_type": "markdown",
      "source": [
        "**vérifier la présence de valeurs manquantes dans les données et de les supprimer pour garantir l'intégrité du jeu de données.**"
      ],
      "metadata": {
        "id": "-3OpDTOqzaP2"
      }
    },
    {
      "cell_type": "code",
      "source": [
        "# Vérifier s'il y a des valeurs manquantes\n",
        "print(data.isnull().sum())\n",
        "\n",
        "# Supprimer les lignes avec des valeurs manquantes (le cas échéant)\n",
        "data = data.dropna()\n",
        "\n",
        "# S'assurer qu'il n'y a plus de valeurs manquantes\n",
        "print(data.isnull().sum())\n"
      ],
      "metadata": {
        "colab": {
          "base_uri": "https://localhost:8080/"
        },
        "id": "PJuj1mW_ewGR",
        "outputId": "6ac6f0de-7851-4e9c-af40-c018b55139bd"
      },
      "execution_count": null,
      "outputs": [
        {
          "output_type": "stream",
          "name": "stdout",
          "text": [
            "CropType            0\n",
            "CropDays            0\n",
            "Soil Moisture       0\n",
            "Soil Temperature    0\n",
            "Temperature         0\n",
            "Humidity            0\n",
            "Irrigation(Y/N)     0\n",
            "dtype: int64\n",
            "CropType            0\n",
            "CropDays            0\n",
            "Soil Moisture       0\n",
            "Soil Temperature    0\n",
            "Temperature         0\n",
            "Humidity            0\n",
            "Irrigation(Y/N)     0\n",
            "dtype: int64\n"
          ]
        }
      ]
    },
    {
      "cell_type": "markdown",
      "source": [
        "**Nous convertissons ici la variable cible Irrigation(Y/N) en entier pour qu'elle soit utilisable par le modele de classification**"
      ],
      "metadata": {
        "id": "oSA5k1aVznpS"
      }
    },
    {
      "cell_type": "code",
      "source": [
        "# Encoder la variable cible\n",
        "data['Irrigation(Y/N)'] = data['Irrigation(Y/N)'].astype(int)\n"
      ],
      "metadata": {
        "id": "UtXMFdy-hz1i"
      },
      "execution_count": null,
      "outputs": []
    },
    {
      "cell_type": "code",
      "source": [
        "# Séparer les caractéristiques (features) et la variable cible (target)\n",
        "X = data.drop(columns=['Irrigation(Y/N)'])\n",
        "y = data['Irrigation(Y/N)']\n",
        "\n",
        "# afficher quelques lignes\n",
        "print(X.head())\n",
        "print(y.head())\n"
      ],
      "metadata": {
        "colab": {
          "base_uri": "https://localhost:8080/"
        },
        "id": "5Ah1hR8dhnp1",
        "outputId": "e51e2556-86ce-4a6d-d778-2764674ef47c"
      },
      "execution_count": null,
      "outputs": [
        {
          "output_type": "stream",
          "name": "stdout",
          "text": [
            "   CropType  CropDays  Soil Moisture  Soil Temperature  Temperature  Humidity\n",
            "0         1         1            630                19           33        52\n",
            "1         1         2            460                20           31        50\n",
            "2         1         3            230                22           33        48\n",
            "3         1         4            140                24           28        62\n",
            "4         1         5            720                18           28        63\n",
            "0    1\n",
            "1    0\n",
            "2    0\n",
            "3    0\n",
            "4    1\n",
            "Name: Irrigation(Y/N), dtype: int64\n"
          ]
        }
      ]
    },
    {
      "cell_type": "markdown",
      "source": [
        "**La normalisation des données permet de s'assurer que toutes les caractéristiques ont des échelles similaires**"
      ],
      "metadata": {
        "id": "XRQNNGUY0LTI"
      }
    },
    {
      "cell_type": "code",
      "source": [
        "from sklearn.preprocessing import StandardScaler\n",
        "\n",
        "# Normaliser les données pour améliorer la performance des modèles de machine learning\n",
        "scaler = StandardScaler()\n",
        "X_scaled = scaler.fit_transform(X)\n"
      ],
      "metadata": {
        "id": "RMy-bol6huut"
      },
      "execution_count": null,
      "outputs": []
    },
    {
      "cell_type": "markdown",
      "source": [
        "#Entrainement du modele\n",
        "Nous utilisons ici un modèle de régression logistique pour classifier si un champ a besoin d'être irrigué ou non. Après l'entraînement, nous évaluons la performance du modèle en calculant la précision et en générant un rapport de classification."
      ],
      "metadata": {
        "id": "OvLHN-GB0pxA"
      }
    },
    {
      "cell_type": "code",
      "source": [
        "from sklearn.model_selection import train_test_split\n",
        "\n",
        "# Diviser les données en ensembles d'entraînement et de test\n",
        "X_train, X_test, y_train, y_test = train_test_split(X_scaled, y, test_size=0.2, random_state=42)\n"
      ],
      "metadata": {
        "id": "vM-y5R-fkWB8"
      },
      "execution_count": null,
      "outputs": []
    },
    {
      "cell_type": "code",
      "source": [
        "from sklearn.linear_model import LogisticRegression\n",
        "from sklearn.metrics import accuracy_score, confusion_matrix, classification_report\n",
        "from sklearn.model_selection import train_test_split, GridSearchCV, cross_val_score\n",
        "\n",
        "# Définir la grille des paramètres pour la régression logistique\n",
        "param_grid = {\n",
        "    'penalty': ['l1', 'l2'],  # Types de régularisation à tester\n",
        "    'C': [0.01, 0.1, 1, 10, 100],  # Différents coefficients de régularisation\n",
        "    'solver': ['liblinear']  # Algorithme d'optimisation à utiliser\n",
        "}\n",
        "\n",
        "# Initialiser le modèle de régression logistique\n",
        "model = LogisticRegression(random_state=42)\n",
        "\n",
        "# Initialiser la recherche par grille avec validation croisée\n",
        "grid_search = GridSearchCV(estimator=model, param_grid=param_grid, cv=5, scoring='accuracy')\n",
        "\n",
        "# Ajuster la recherche par grille aux données d'entraînement\n",
        "grid_search.fit(X_train, y_train)\n",
        "\n",
        "# Obtenir les meilleurs paramètres et le meilleur score\n",
        "best_params = grid_search.best_params_\n",
        "best_score = grid_search.best_score_\n",
        "\n",
        "print(f\"Meilleurs paramètres : {best_params}\")\n"
      ],
      "metadata": {
        "colab": {
          "base_uri": "https://localhost:8080/"
        },
        "id": "ujV_m1KTkYtw",
        "outputId": "31811a2f-b4a8-4823-9562-6147c845388d"
      },
      "execution_count": null,
      "outputs": [
        {
          "output_type": "stream",
          "name": "stdout",
          "text": [
            "Meilleurs paramètres : {'C': 0.1, 'penalty': 'l2', 'solver': 'liblinear'}\n",
            "Meilleur score de validation croisée : 0.9333333333333332\n"
          ]
        }
      ]
    },
    {
      "cell_type": "markdown",
      "source": [
        "#Utilisation du CROSS VALIDATION"
      ],
      "metadata": {
        "id": "xprQjeHQlWwD"
      }
    },
    {
      "cell_type": "markdown",
      "source": [
        "Elle consiste à diviser les données d'entraînement en plusieurs sous-ensembles, et à entraîner et évaluer le modèle sur ces différents sous-ensembles de façon itérative"
      ],
      "metadata": {
        "id": "mNIGO9QKmKoX"
      }
    },
    {
      "cell_type": "code",
      "source": [
        "from sklearn.model_selection import cross_val_score\n",
        "\n",
        "# Effectuer une validation croisée sur le meilleur modèle\n",
        "best_model = grid_search.best_estimator_\n",
        "cv_scores = cross_val_score(best_model, X_train, y_train, cv=5)\n",
        "\n",
        "# Afficher les scores de validation croisée\n",
        "print(\"Scores de validation croisée :\", cv_scores)\n",
        "print(\"Score moyen de validation croisée :\", cv_scores.mean())"
      ],
      "metadata": {
        "colab": {
          "base_uri": "https://localhost:8080/"
        },
        "id": "Z5SwQ2Pii-UH",
        "outputId": "c2d19020-a2be-4c68-9e41-f7a2199fccc0"
      },
      "execution_count": null,
      "outputs": [
        {
          "output_type": "stream",
          "name": "stdout",
          "text": [
            "Scores de validation croisée : [0.875      1.         0.91666667 0.91666667 0.95833333]\n",
            "Score moyen de validation croisée : 0.9333333333333332\n"
          ]
        }
      ]
    },
    {
      "cell_type": "markdown",
      "source": [
        "#Prédiction et évaluation"
      ],
      "metadata": {
        "id": "Um0HsQih2vuG"
      }
    },
    {
      "cell_type": "code",
      "source": [
        "# Entraîner le meilleur modèle sur l'ensemble des données d'entraînement\n",
        "best_model.fit(X_train, y_train)\n",
        "\n",
        "# Faire des prédictions sur l'ensemble de test\n",
        "y_pred = best_model.predict(X_test)\n",
        "\n",
        "# Générer le rapport de classification\n",
        "print(classification_report(y_test, y_pred))\n",
        "\n",
        "# Calculer et afficher le score d'exactitude\n",
        "accuracy = accuracy_score(y_test, y_pred)\n",
        "print(f\"Précision sur l'ensemble de test (accuracy) : {accuracy}\")\n"
      ],
      "metadata": {
        "colab": {
          "base_uri": "https://localhost:8080/"
        },
        "id": "-ViKcRkokdVA",
        "outputId": "87bc35f2-7384-48a3-f5f8-3aa8351db663"
      },
      "execution_count": null,
      "outputs": [
        {
          "output_type": "stream",
          "name": "stdout",
          "text": [
            "              precision    recall  f1-score   support\n",
            "\n",
            "           0       1.00      0.96      0.98        26\n",
            "           1       0.80      1.00      0.89         4\n",
            "\n",
            "    accuracy                           0.97        30\n",
            "   macro avg       0.90      0.98      0.93        30\n",
            "weighted avg       0.97      0.97      0.97        30\n",
            "\n",
            "Précision sur l'ensemble de test (accuracy) : 0.9666666666666667\n"
          ]
        }
      ]
    },
    {
      "cell_type": "markdown",
      "source": [
        "les résultats des scores de validation croisée montrent que le modèle a une performance élevée et cohérente, avec une précision moyenne de 96.66%. Cela signifie que le modèle est bien formé et devrait être capable de généraliser efficacement à de nouvelles données\n"
      ],
      "metadata": {
        "id": "CCAa9c_12NHp"
      }
    },
    {
      "cell_type": "markdown",
      "source": [
        "#Ensembling"
      ],
      "metadata": {
        "id": "zLPv0gmWmaeb"
      }
    },
    {
      "cell_type": "code",
      "source": [
        "from sklearn.ensemble import VotingClassifier\n",
        "from sklearn.svm import SVC\n",
        "\n",
        "# Définir les modeles\n",
        "log_reg = LogisticRegression(C=0.1, penalty='l2', solver='liblinear')\n",
        "svm = SVC(kernel='linear', probability=True)\n",
        "\n",
        "# Initialiser the voting classifier\n",
        "ensemble_model = VotingClassifier(estimators=[('lr', log_reg), ('svm', svm)], voting='soft')\n",
        "\n",
        "# Entrainer l'ensemble de modeles\n",
        "ensemble_model.fit(X_train, y_train)\n",
        "\n",
        "# Evaluaer l'ensemble de modeles\n",
        "ensemble_pred = ensemble_model.predict(X_test)\n",
        "\n",
        "\n",
        "print(classification_report(y_test, ensemble_pred))\n",
        "\n",
        "# Calculer l'accuracy\n",
        "ensemble_accuracy = accuracy_score(y_test, ensemble_pred)\n",
        "print(f\"Ensemble model accuracy: {ensemble_accuracy}\")"
      ],
      "metadata": {
        "id": "l7c7uQTr11m7",
        "colab": {
          "base_uri": "https://localhost:8080/"
        },
        "outputId": "285333e3-e8b4-4928-e995-9b7d3fedc25f"
      },
      "execution_count": null,
      "outputs": [
        {
          "output_type": "stream",
          "name": "stdout",
          "text": [
            "              precision    recall  f1-score   support\n",
            "\n",
            "           0       1.00      1.00      1.00        26\n",
            "           1       1.00      1.00      1.00         4\n",
            "\n",
            "    accuracy                           1.00        30\n",
            "   macro avg       1.00      1.00      1.00        30\n",
            "weighted avg       1.00      1.00      1.00        30\n",
            "\n",
            "Ensemble model accuracy: 1.0\n"
          ]
        }
      ]
    },
    {
      "cell_type": "code",
      "source": [],
      "metadata": {
        "id": "hQwn5E4flyRB"
      },
      "execution_count": null,
      "outputs": []
    },
    {
      "cell_type": "code",
      "source": [],
      "metadata": {
        "id": "zvigVbwPn1PX"
      },
      "execution_count": null,
      "outputs": []
    }
  ]
}